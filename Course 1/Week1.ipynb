{
 "cells": [
  {
   "cell_type": "code",
   "execution_count": 5,
   "metadata": {},
   "outputs": [],
   "source": [
    "def PatternCount(Text, Pattern) :\n",
    "    count = 0\n",
    "    for i in range(0, len(Text) - len(Pattern) + 1) :\n",
    "        comparing = Text[i:i + len(Pattern)]\n",
    "        if(comparing == Pattern) : count += 1\n",
    "    return count"
   ]
  },
  {
   "cell_type": "code",
   "execution_count": 12,
   "metadata": {},
   "outputs": [],
   "source": [
    "def FrequentWords(Text, k) :\n",
    "    \n",
    "    best_value = 0\n",
    "    best_kmer = []\n",
    "    \n",
    "    start_index = 0\n",
    "    \n",
    "    table = [True for i in range(len(Text))]\n",
    "    \n",
    "    for i in range(0, len(Text) - k) :\n",
    "        \n",
    "        if(table[i]) :\n",
    "            target = Text[i:i + k]\n",
    "            \n",
    "            index_list = []; count = 1\n",
    "            index_list.append(i)\n",
    "            \n",
    "            last_index = i; count = 1\n",
    "            \n",
    "            while(True) : \n",
    "                temp_index = Text[last_index + 1:].find(target)\n",
    "                if(temp_index == -1) : break\n",
    "\n",
    "                last_index += (temp_index + 1)\n",
    "                index_list.append(last_index)\n",
    "                count += 1\n",
    "            \n",
    "            for j in range(0, count) : table[index_list[j]] = False\n",
    "        \n",
    "            if(count > best_value) :\n",
    "                best_value = count\n",
    "                best_kmer.append(target)\n",
    "                start_index = len(best_kmer) - 1\n",
    "                \n",
    "            elif(count == best_value) : best_kmer.append(target)\n",
    "                \n",
    "    return best_kmer[start_index : ]"
   ]
  },
  {
   "cell_type": "code",
   "execution_count": 20,
   "metadata": {},
   "outputs": [],
   "source": [
    "def ReverseComplement(Pattern) :\n",
    "    base_dict = {'A' : 'T', 'G' : 'C', 'T' : 'A', 'C' : 'G'}\n",
    "    \n",
    "    result = \"\"; index = len(Pattern) - 1\n",
    "    for i in range(0, len(Pattern)) :\n",
    "        result += base_dict[Pattern[index]]\n",
    "        index -= 1\n",
    "    \n",
    "    return result"
   ]
  },
  {
   "cell_type": "code",
   "execution_count": 27,
   "metadata": {},
   "outputs": [],
   "source": [
    "def PatternMatching(Pattern, Genome) :\n",
    "        \n",
    "    index_list = []\n",
    "    last_index = -1\n",
    "        \n",
    "    while(True) : \n",
    "        temp_index = Genome[last_index + 1:].find(Pattern)\n",
    "        if(temp_index == -1) : break\n",
    "    \n",
    "        last_index += (temp_index + 1)\n",
    "        index_list.append(last_index)\n",
    "    \n",
    "    return index_list"
   ]
  },
  {
   "cell_type": "code",
   "execution_count": null,
   "metadata": {},
   "outputs": [],
   "source": [
    "def ClumpFinding(genome, k, L, t) :\n",
    "\n",
    "    correct_kmer = []\n",
    "    \n",
    "    for i in range(0, len(genome) - k) :\n",
    "    \n",
    "        target = genome[i:i + k]\n",
    "            \n",
    "        count = 1\n",
    "        last_index = i\n",
    "            \n",
    "        while(True) : \n",
    "            temp_index = genome[last_index + 1:].find(target)\n",
    "            if(temp_index == -1 or i + L < (last_index + temp_index + 1) + k) : break    \n",
    "            last_index += (temp_index + 1)\n",
    "            count += 1\n",
    "            \n",
    "        if(count == t and target not in correct_kmer) :\n",
    "            correct_kmer.append(target)\n",
    "            print(target)\n",
    "            \n",
    "    return correct_kmer\n",
    "\n",
    "'''\n",
    "input_file = open(\"E_coli.txt\", 'r')\n",
    "\n",
    "seq = input_file.readline()\n",
    "print(len(ClumpFinding(seq, 9, 500, 3)))\n",
    "'''"
   ]
  },
  {
   "cell_type": "code",
   "execution_count": 48,
   "metadata": {},
   "outputs": [],
   "source": [
    "def ComputingFrequencies(text, k):\n",
    "    \n",
    "    frequency_table = []\n",
    "    for i in range(0, 4 ** k) : frequency_table.append(0)\n",
    "        \n",
    "    default_dic = {'A' : 0, 'C' : 1, 'G' : 2, 'T' : 3}\n",
    "    for i in range(0, len(text) - k + 1) : \n",
    "        target = text[i : i + k]; length = len(target)\n",
    "        cal = 0\n",
    "        for j in range(0, len(target)) : \n",
    "            cal += 4 ** (length - j - 1) * default_dic[target[j]]\n",
    "        \n",
    "        frequency_table[cal] += 1\n",
    "    \n",
    "    return frequency_table"
   ]
  },
  {
   "cell_type": "code",
   "execution_count": 55,
   "metadata": {},
   "outputs": [
    {
     "name": "stdout",
     "output_type": "stream",
     "text": [
      "259453494\n"
     ]
    }
   ],
   "source": [
    "def PatternToNumber(pattern) :\n",
    "    length = len(pattern)\n",
    "    dic = {'A' : 0, 'C' : 1, 'G' : 2, 'T' : 3}; cal = 0\n",
    "    for i in range(0, length) : \n",
    "        cal += 4 ** (length - i - 1) * dic[pattern[i]]\n",
    "    return cal"
   ]
  },
  {
   "cell_type": "code",
   "execution_count": 57,
   "metadata": {},
   "outputs": [],
   "source": [
    "def NumberToPattern(index, k) :\n",
    "    dic = \"ACGT\"\n",
    "    kmer = \"\"\n",
    "    for i in range(0, k) : \n",
    "        mod = int(index / (4 ** (k - i - 1)))\n",
    "        index %= 4 ** (k - i - 1)\n",
    "        kmer += dic[mod]\n",
    "    return kmer"
   ]
  },
  {
   "cell_type": "code",
   "execution_count": null,
   "metadata": {},
   "outputs": [],
   "source": []
  }
 ],
 "metadata": {
  "kernelspec": {
   "display_name": "Python 2",
   "language": "python",
   "name": "python2"
  },
  "language_info": {
   "codemirror_mode": {
    "name": "ipython",
    "version": 2
   },
   "file_extension": ".py",
   "mimetype": "text/x-python",
   "name": "python",
   "nbconvert_exporter": "python",
   "pygments_lexer": "ipython2",
   "version": "2.7.15"
  }
 },
 "nbformat": 4,
 "nbformat_minor": 2
}
