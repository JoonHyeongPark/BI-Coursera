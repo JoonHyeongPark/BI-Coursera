{
 "cells": [
  {
   "cell_type": "code",
   "execution_count": 1,
   "metadata": {},
   "outputs": [
    {
     "name": "stdout",
     "output_type": "stream",
     "text": [
      "6, 0, 2, 4, 1, 3, 5\n"
     ]
    }
   ],
   "source": [
    "input_file = open(\"untitled.txt\", 'r')\n",
    "\n",
    "genome = input_file.readline().replace('\\n', '')\n",
    "\n",
    "def suffixarray(genome) :\n",
    "    \n",
    "    substrings = {}\n",
    "    n = len(genome)\n",
    "    \n",
    "    for i in range(n - 1, -1, -1) : substrings[genome[i:]] = i\n",
    "    keys =  sorted(substrings)\n",
    "    \n",
    "    printline = str(substrings[keys[0]])\n",
    "    for i in range(1, len(keys)) : printline += ', ' + str(substrings[keys[i]])\n",
    "        \n",
    "    return printline\n",
    "\n",
    "print(suffixarray(genome))"
   ]
  },
  {
   "cell_type": "code",
   "execution_count": 2,
   "metadata": {},
   "outputs": [
    {
     "name": "stdout",
     "output_type": "stream",
     "text": [
      "GCTGTGGA$TC\n"
     ]
    }
   ],
   "source": [
    "input_file = open(\"untitled.txt\", 'r')\n",
    "\n",
    "string = input_file.readline().replace('\\n', '')\n",
    "\n",
    "def BurrowsWheelerTransformConstruction(string) :\n",
    "    \n",
    "    perms = []\n",
    "    for i in range(len(string)) : perms.append(string[i:] + string[:i])\n",
    "    perms = sorted(perms)\n",
    "    \n",
    "    ans = \"\"\n",
    "    for perm in perms : ans += perm[-1]\n",
    "        \n",
    "    return ans\n",
    "\n",
    "print(BurrowsWheelerTransformConstruction(string))"
   ]
  },
  {
   "cell_type": "code",
   "execution_count": 3,
   "metadata": {},
   "outputs": [
    {
     "name": "stdout",
     "output_type": "stream",
     "text": [
      "CACTTAAAGT$\n"
     ]
    }
   ],
   "source": [
    "input_file = open(\"untitled.txt\", 'r')\n",
    "\n",
    "string = input_file.readline().replace('\\n', '')\n",
    "\n",
    "def InverseBurrowsWheeler(bwt) :\n",
    "    \n",
    "    enumerated_bwt = EnumerateWord(bwt)\n",
    "    enumerated_sort = EnumerateWord(sorted(bwt))\n",
    "    \n",
    "    inverse_dict = {enumerated_bwt[i] : enumerated_sort[i] for i in range(len(bwt))}\n",
    "    inverse_bwt = \"\"\n",
    "    \n",
    "    current_char = enumerated_bwt[0]\n",
    "    \n",
    "    for i in xrange(len(bwt)) :\n",
    "        current_char = inverse_dict[current_char]\n",
    "        inverse_bwt += current_char[0]\n",
    "        \n",
    "    return inverse_bwt[1:] + inverse_bwt[0]\n",
    "\n",
    "def EnumerateWord(word) :\n",
    "    \n",
    "    char_count = {}\n",
    "    enumerated = []\n",
    "    \n",
    "    for ch in word :\n",
    "        if ch not in char_count : char_count[ch] = 0\n",
    "        else : char_count[ch] += 1\n",
    "        enumerated.append(ch + str(char_count[ch]))\n",
    "\n",
    "    return enumerated\n",
    "\n",
    "print(InverseBurrowsWheeler(string))"
   ]
  },
  {
   "cell_type": "code",
   "execution_count": null,
   "metadata": {},
   "outputs": [],
   "source": []
  }
 ],
 "metadata": {
  "kernelspec": {
   "display_name": "Python 2",
   "language": "python",
   "name": "python2"
  },
  "language_info": {
   "codemirror_mode": {
    "name": "ipython",
    "version": 2
   },
   "file_extension": ".py",
   "mimetype": "text/x-python",
   "name": "python",
   "nbconvert_exporter": "python",
   "pygments_lexer": "ipython2",
   "version": "2.7.15"
  }
 },
 "nbformat": 4,
 "nbformat_minor": 2
}
