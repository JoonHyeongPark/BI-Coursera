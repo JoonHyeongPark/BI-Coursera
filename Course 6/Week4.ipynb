{
 "cells": [
  {
   "cell_type": "code",
   "execution_count": 12,
   "metadata": {},
   "outputs": [
    {
     "name": "stdout",
     "output_type": "stream",
     "text": [
      "2.21815983085e-19\n"
     ]
    }
   ],
   "source": [
    "input_file = open(\"untitled1.txt\", 'r')\n",
    "\n",
    "path = input_file.readline().replace('\\n', '')\n",
    "input_file.readline()\n",
    "\n",
    "states = input_file.readline().replace('\\n', '').split()\n",
    "input_file.readline()\n",
    "input_file.readline()\n",
    "\n",
    "transition = []\n",
    "transition.append(map(float, input_file.readline().replace('\\n', '').split()[1:]))\n",
    "transition.append(map(float, input_file.readline().replace('\\n', '').split()[1:]))\n",
    "\n",
    "statelookup = {states[i] : i for i in range(len(states))}\n",
    "\n",
    "def probability_hmm(path, states, transition, statelookup) :\n",
    "    \n",
    "    prob = 0.5\n",
    "    for i in range(len(path) - 1) : prob *= transition[statelookup[path[i]]][statelookup[path[i + 1]]]\n",
    "    return prob\n",
    "\n",
    "print(probability_hmm(path, states, transition, statelookup))"
   ]
  },
  {
   "cell_type": "code",
   "execution_count": 14,
   "metadata": {},
   "outputs": [
    {
     "name": "stdout",
     "output_type": "stream",
     "text": [
      "8.30996263905e-30\n"
     ]
    }
   ],
   "source": [
    "input_file = open(\"untitled1.txt\", 'r')\n",
    "\n",
    "string = input_file.readline().replace('\\n', '')\n",
    "input_file.readline()\n",
    "\n",
    "letters = input_file.readline().replace('\\n', '').split()\n",
    "input_file.readline()\n",
    "\n",
    "path = input_file.readline().replace('\\n', '')\n",
    "input_file.readline()\n",
    "\n",
    "states = input_file.readline().replace('\\n', '').split()\n",
    "\n",
    "input_file.readline()\n",
    "input_file.readline()\n",
    "\n",
    "emission = []\n",
    "emission.append(map(float, input_file.readline().replace('\\n', '').split()[1:]))\n",
    "emission.append(map(float, input_file.readline().replace('\\n', '').split()[1:]))\n",
    "\n",
    "statelookup = {states[i]:i for i in range(len(states))}\n",
    "letterlookup = {letters[j]:j for j in range(len(letters))}\n",
    "\n",
    "def outcomeprobability_hmm(string,path,emission,statelookup,letterlookup):\n",
    "    prob = 1\n",
    "    for i in range(len(path)) : prob *= emission[statelookup[path[i]]][letterlookup[string[i]]]\n",
    "    return prob\n",
    "\n",
    "print(outcomeprobability_hmm(string,path,emission,statelookup,letterlookup))"
   ]
  },
  {
   "cell_type": "code",
   "execution_count": 23,
   "metadata": {},
   "outputs": [
    {
     "name": "stdout",
     "output_type": "stream",
     "text": [
      "ABABABBBABBBBBBAAAABBBBBBBBBABBABAABBBBBBABBAABBAABBABBABBAAAABABABAABBABBBBAAABABABBBBBABBBBBBABBBB\n"
     ]
    }
   ],
   "source": [
    "from math import log10\n",
    "from operator import itemgetter\n",
    "\n",
    "def interpreter(conn) :\n",
    "    \n",
    "    emitted = conn.readline().strip()\n",
    "    conn.readline()\n",
    "    \n",
    "    possibles = conn.readline().strip().split(' ')\n",
    "    conn.readline()\n",
    "    \n",
    "    states = conn.readline().strip().split(' ')\n",
    "    conn.readline()\n",
    "    \n",
    "    transit = dict()\n",
    "    \n",
    "    while True :\n",
    "        l = conn.readline()\n",
    "        \n",
    "        if l == '' or l[0 : 2] == '--' : break\n",
    "            \n",
    "        ll = l.strip().split('\\t')\n",
    "        \n",
    "        if len(ll) == len(states) + 1 :\n",
    "            dd = dict()\n",
    "            for i, s in enumerate(states) : dd[s] = log10(float(ll[i + 1]))\n",
    "            transit[ll[0]] = dd\n",
    "            \n",
    "    emission = dict()\n",
    "    while True :\n",
    "        l = conn.readline()\n",
    "        \n",
    "        if l == '' or l[0:2] == '--' : break\n",
    "            \n",
    "        ll = l.strip().split('\\t')\n",
    "        \n",
    "        if len(ll) == len(possibles) + 1 :\n",
    "            dd = dict()\n",
    "            for i, s in enumerate(possibles) : dd[s] = log10(float(ll[i + 1]))\n",
    "            emission[ll[0]] = dd\n",
    "            \n",
    "    return emitted, possibles, states, transit, emission\n",
    "\n",
    "\n",
    "def viterbi(emit, stat, t, e) :\n",
    "    \n",
    "    tree = list()\n",
    "    n = len(emit)\n",
    "    d = dict()\n",
    "    \n",
    "    for item in stat : d[item] = (e[item][emit[0]] - log10(len(stat)), 'so')\n",
    "    tree.append(d)\n",
    "    \n",
    "    for ind in range(1,n) :\n",
    "        \n",
    "        d = dict()\n",
    "        for item in stat :\n",
    "            proba = [(e[item][emit[ind]] + t[last][item] + tree[ind-1][last][0], last) for last in stat]\n",
    "            d[item] = max(proba, key=itemgetter(0))\n",
    "        tree.append(d)\n",
    "\n",
    "    d = dict()\n",
    "    proba = [(tree[n-1][last][0], last) for last in states]\n",
    "\n",
    "    d['sink'] = max(proba, key = itemgetter(0))\n",
    "    tree.append(d)\n",
    "\n",
    "    return tree\n",
    "\n",
    "def backtracker(tre) :\n",
    "                          \n",
    "    s = ''\n",
    "    curr = 'sink'\n",
    "                          \n",
    "    for i in range(len(tre) - 1, 0, -1) :\n",
    "        last = tre[i][curr][1]\n",
    "        s += last\n",
    "        curr = last\n",
    "\n",
    "    return s[::-1]\n",
    "\n",
    "emitted, possibles, states, transit, emission = interpreter(open(\"untitled1.txt\", 'r'))\n",
    "tree = viterbi(emitted, states, transit, emission)\n",
    "print(backtracker(tree))"
   ]
  },
  {
   "cell_type": "code",
   "execution_count": null,
   "metadata": {},
   "outputs": [],
   "source": []
  }
 ],
 "metadata": {
  "kernelspec": {
   "display_name": "Python 2",
   "language": "python",
   "name": "python2"
  },
  "language_info": {
   "codemirror_mode": {
    "name": "ipython",
    "version": 2
   },
   "file_extension": ".py",
   "mimetype": "text/x-python",
   "name": "python",
   "nbconvert_exporter": "python",
   "pygments_lexer": "ipython2",
   "version": "2.7.15"
  }
 },
 "nbformat": 4,
 "nbformat_minor": 2
}
