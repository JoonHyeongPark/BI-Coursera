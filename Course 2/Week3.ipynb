{
 "cells": [
  {
   "cell_type": "code",
   "execution_count": 4,
   "metadata": {},
   "outputs": [
    {
     "name": "stdout",
     "output_type": "stream",
     "text": [
      "\"AAA\" : \"K\", \n",
      "\"AAC\" : \"N\", \n",
      "\"AAG\" : \"K\", \n",
      "\"AAU\" : \"N\", \n",
      "\"ACA\" : \"T\", \n",
      "\"ACC\" : \"T\", \n",
      "\"ACG\" : \"T\", \n",
      "\"ACU\" : \"T\", \n",
      "\"AGA\" : \"R\", \n",
      "\"AGC\" : \"S\", \n",
      "\"AGG\" : \"R\", \n",
      "\"AGU\" : \"S\", \n",
      "\"AUA\" : \"I\", \n",
      "\"AUC\" : \"I\", \n",
      "\"AUG\" : \"M\", \n",
      "\"AUU\" : \"I\", \n",
      "\"CAA\" : \"Q\", \n",
      "\"CAC\" : \"H\", \n",
      "\"CAG\" : \"Q\", \n",
      "\"CAU\" : \"H\", \n",
      "\"CCA\" : \"P\", \n",
      "\"CCC\" : \"P\", \n",
      "\"CCG\" : \"P\", \n",
      "\"CCU\" : \"P\", \n",
      "\"CGA\" : \"R\", \n",
      "\"CGC\" : \"R\", \n",
      "\"CGG\" : \"R\", \n",
      "\"CGU\" : \"R\", \n",
      "\"CUA\" : \"L\", \n",
      "\"CUC\" : \"L\", \n",
      "\"CUG\" : \"L\", \n",
      "\"CUU\" : \"L\", \n",
      "\"GAA\" : \"E\", \n",
      "\"GAC\" : \"D\", \n",
      "\"GAG\" : \"E\", \n",
      "\"GAU\" : \"D\", \n",
      "\"GCA\" : \"A\", \n",
      "\"GCC\" : \"A\", \n",
      "\"GCG\" : \"A\", \n",
      "\"GCU\" : \"A\", \n",
      "\"GGA\" : \"G\", \n",
      "\"GGC\" : \"G\", \n",
      "\"GGG\" : \"G\", \n",
      "\"GGU\" : \"G\", \n",
      "\"GUA\" : \"V\", \n",
      "\"GUC\" : \"V\", \n",
      "\"GUG\" : \"V\", \n",
      "\"GUU\" : \"V\", \n",
      "\"UAA\" : \"U\", \n",
      "\"UAC\" : \"Y\", \n",
      "\"UAG\" : \"Y\", \n",
      "\"UAU\" : \"Y\", \n",
      "\"UCA\" : \"S\", \n",
      "\"UCC\" : \"S\", \n",
      "\"UCG\" : \"S\", \n",
      "\"UCU\" : \"S\", \n",
      "\"UGA\" : \"W\", \n",
      "\"UGC\" : \"C\", \n",
      "\"UGG\" : \"W\", \n",
      "\"UGU\" : \"C\", \n",
      "\"UUA\" : \"L\", \n",
      "\"UUC\" : \"F\", \n",
      "\"UUG\" : \"L\", \n",
      "\"UUU\" : \"F\", \n"
     ]
    }
   ],
   "source": [
    "import sys\n",
    "\n",
    "input_file = open(\"codon_table.txt\", 'r')\n",
    "lines = input_file.readlines()\n",
    "\n",
    "for line in lines :\n",
    "    codon = line.split()\n",
    "    print('\"%s\" : \"%s\", ' % (codon[0], codon[1]))"
   ]
  },
  {
   "cell_type": "code",
   "execution_count": 18,
   "metadata": {},
   "outputs": [
    {
     "name": "stdout",
     "output_type": "stream",
     "text": [
      "PSTEMN\n"
     ]
    }
   ],
   "source": [
    "import sys\n",
    "\n",
    "codon = {\"AAA\" : \"K\", \"AAC\" : \"N\", \"AAG\" : \"K\", \"AAU\" : \"N\", \"ACA\" : \"T\", \"ACC\" : \"T\", \"ACG\" : \"T\", \"ACU\" : \"T\", \"AGA\" : \"R\", \"AGC\" : \"S\", \"AGG\" : \"R\", \"AGU\" : \"S\", \"AUA\" : \"I\", \"AUC\" : \"I\", \"AUG\" : \"M\", \"AUU\" : \"I\", \"CAA\" : \"Q\", \"CAC\" : \"H\", \"CAG\" : \"Q\", \"CAU\" : \"H\", \"CCA\" : \"P\", \"CCC\" : \"P\", \"CCG\" : \"P\", \"CCU\" : \"P\", \"CGA\" : \"R\", \"CGC\" : \"R\", \"CGG\" : \"R\", \"CGU\" : \"R\", \"CUA\" : \"L\", \"CUC\" : \"L\", \"CUG\" : \"L\", \"CUU\" : \"L\", \"GAA\" : \"E\", \"GAC\" : \"D\", \"GAG\" : \"E\", \"GAU\" : \"D\", \"GCA\" : \"A\", \"GCC\" : \"A\", \"GCG\" : \"A\", \"GCU\" : \"A\", \"GGA\" : \"G\", \"GGC\" : \"G\", \"GGG\" : \"G\", \"GGU\" : \"G\", \"GUA\" : \"V\", \"GUC\" : \"V\", \"GUG\" : \"V\", \"GUU\" : \"V\", \"UAA\" : \"Stop\", \"UAC\" : \"Y\", \"UAG\" : \"Stop\", \"UAU\" : \"Y\", \"UCA\" : \"S\", \"UCC\" : \"S\", \"UCG\" : \"S\", \"UCU\" : \"S\", \"UGA\" : \"Stop\", \"UGC\" : \"C\", \"UGG\" : \"W\", \"UGU\" : \"C\", \"UUA\" : \"L\", \"UUC\" : \"F\", \"UUG\" : \"L\", \"UUU\" : \"F\"}\n",
    "\n",
    "def translate(sequence):\n",
    "    triplets = [sequence[i:i+3] for i in range(0, len(sequence), 3)]\n",
    "    protein = \"\"\n",
    "\n",
    "    for triplet in triplets:\n",
    "        if codon[triplet] == 'Stop' : break\n",
    "        else : protein += codon[triplet]\n",
    "    return protein\n",
    "\n",
    "#lines = sys.stdin.read().splitlines()\n",
    "input_file = open(\"untitled.txt\", 'r')\n",
    "line = input_file.readline()\n",
    "\n",
    "protein = translate(line)\n",
    "print(protein)"
   ]
  },
  {
   "cell_type": "code",
   "execution_count": 117,
   "metadata": {},
   "outputs": [
    {
     "ename": "IndexError",
     "evalue": "list index out of range",
     "output_type": "error",
     "traceback": [
      "\u001b[1;31m---------------------------------------------------------------------------\u001b[0m",
      "\u001b[1;31mIndexError\u001b[0m                                Traceback (most recent call last)",
      "\u001b[1;32m<ipython-input-117-b64e6944c42d>\u001b[0m in \u001b[0;36m<module>\u001b[1;34m()\u001b[0m\n\u001b[0;32m     23\u001b[0m \u001b[1;33m\u001b[0m\u001b[0m\n\u001b[0;32m     24\u001b[0m \u001b[0msequence\u001b[0m \u001b[1;33m=\u001b[0m \u001b[0mlines\u001b[0m\u001b[1;33m[\u001b[0m\u001b[1;36m0\u001b[0m\u001b[1;33m]\u001b[0m\u001b[1;33m\u001b[0m\u001b[0m\n\u001b[1;32m---> 25\u001b[1;33m \u001b[0mmotif\u001b[0m \u001b[1;33m=\u001b[0m \u001b[0mlines\u001b[0m\u001b[1;33m[\u001b[0m\u001b[1;36m1\u001b[0m\u001b[1;33m]\u001b[0m\u001b[1;33m\u001b[0m\u001b[0m\n\u001b[0m\u001b[0;32m     26\u001b[0m \u001b[1;33m\u001b[0m\u001b[0m\n\u001b[0;32m     27\u001b[0m \u001b[1;32mfor\u001b[0m \u001b[0mi\u001b[0m \u001b[1;32min\u001b[0m \u001b[0mrange\u001b[0m\u001b[1;33m(\u001b[0m\u001b[0mlen\u001b[0m\u001b[1;33m(\u001b[0m\u001b[0msequence\u001b[0m\u001b[1;33m)\u001b[0m \u001b[1;33m-\u001b[0m \u001b[1;36m3\u001b[0m \u001b[1;33m*\u001b[0m \u001b[0mlen\u001b[0m\u001b[1;33m(\u001b[0m\u001b[0mmotif\u001b[0m\u001b[1;33m)\u001b[0m \u001b[1;33m+\u001b[0m \u001b[1;36m1\u001b[0m\u001b[1;33m)\u001b[0m \u001b[1;33m:\u001b[0m\u001b[1;33m\u001b[0m\u001b[0m\n",
      "\u001b[1;31mIndexError\u001b[0m: list index out of range"
     ]
    }
   ],
   "source": [
    "import sys\n",
    "\n",
    "codon = {\"AAA\" : \"K\", \"AAC\" : \"N\", \"AAG\" : \"K\", \"AAT\" : \"N\", \"ACA\" : \"T\", \"ACC\" : \"T\", \"ACG\" : \"T\", \"ACT\" : \"T\", \"AGA\" : \"R\", \"AGC\" : \"S\", \"AGG\" : \"R\", \"AGT\" : \"S\", \"ATA\" : \"I\", \"ATC\" : \"I\", \"ATG\" : \"M\", \"ATT\" : \"I\", \"CAA\" : \"Q\", \"CAC\" : \"H\", \"CAG\" : \"Q\", \"CAT\" : \"H\", \"CCA\" : \"P\", \"CCC\" : \"P\", \"CCG\" : \"P\", \"CCT\" : \"P\", \"CGA\" : \"R\", \"CGC\" : \"R\", \"CGG\" : \"R\", \"CGT\" : \"R\", \"CTA\" : \"L\", \"CTC\" : \"L\", \"CTG\" : \"L\", \"CTT\" : \"L\", \"GAA\" : \"E\", \"GAC\" : \"D\", \"GAG\" : \"E\", \"GAT\" : \"D\", \"GCA\" : \"A\", \"GCC\" : \"A\", \"GCG\" : \"A\", \"GCT\" : \"A\", \"GGA\" : \"G\", \"GGC\" : \"G\", \"GGG\" : \"G\", \"GGT\" : \"G\", \"GTA\" : \"V\", \"GTC\" : \"V\", \"GTG\" : \"V\", \"GTT\" : \"V\", \"TAA\" : \"Stop\", \"TAC\" : \"Y\", \"TAG\" : \"Stop\", \"TAT\" : \"Y\", \"TCA\" : \"S\", \"TCC\" : \"S\", \"TCG\" : \"S\", \"TCT\" : \"S\", \"TGA\" : \"Stop\", \"TGC\" : \"C\", \"TGG\" : \"W\", \"TGT\" : \"C\", \"TTA\" : \"L\", \"TTC\" : \"F\", \"TTG\" : \"L\", \"TTT\" : \"F\"}\n",
    "\n",
    "def reverse_complement(sequence) :\n",
    "    dic = {'A' : 'T', 'T' : 'A', 'G' : 'C', 'C' : 'G'}\n",
    "    return \"\".join(map(lambda x : dic[x], sequence[::-1]))\n",
    "    \n",
    "def translate(sequence):\n",
    "\n",
    "    triplets = [sequence[i:i+3] for i in range(0, len(sequence), 3)]\n",
    "    protein = \"\"\n",
    "    \n",
    "    for triplet in triplets:\n",
    "        if(codon[triplet] == \"Stop\") : break\n",
    "        else : protein += codon[triplet]\n",
    "\n",
    "    return protein\n",
    "\n",
    "#lines = sys.stdin.read().splitlines()\n",
    "input_file = open(\"untitled.txt\", 'r')\n",
    "lines = input_file.read().split()\n",
    "\n",
    "sequence = lines[0]\n",
    "motif = lines[1]\n",
    "\n",
    "for i in range(len(sequence) - 3 * len(motif) + 1) : \n",
    "    DNA = sequence[i : i + 3 * len(motif)]\n",
    "    reverse_DNA = reverse_complement(DNA)\n",
    "    protein1 = translate(DNA)\n",
    "    protein2 = translate(reverse_DNA)\n",
    "    if(protein1 == motif or protein2 == motif) :\n",
    "        print(DNA)\n",
    "\n",
    "#index1 = filter(lambda i:motif == protein1[i:i+length], range(len(protein1) - length))\n",
    "#index2 = filter(lambda i:motif == protein2[i:i+length], range(len(protein2) - length))\n",
    "\n",
    "#for i in index1 : print(reduce(lambda x, y:sequence[x*3:x*3+3] + sequence[y*3:y*3+3], range(i, i+length)))\n",
    "#for i in index2 : print(reduce(lambda x, y:reverse_sequence[x*3:x*3+3] + reverse_sequence[y*3:y*3+3], range(i, i+length)))"
   ]
  },
  {
   "cell_type": "code",
   "execution_count": 14,
   "metadata": {},
   "outputs": [
    {
     "name": "stdout",
     "output_type": "stream",
     "text": [
      "0 101 103 128 204 231 332\n"
     ]
    }
   ],
   "source": [
    "import sys\n",
    "\n",
    "def aminoacid_mass_dict():\n",
    "    mass_dict = {\"G\" : 57, \"A\" : 71, \"S\" : 87, \"P\" : 97, \"V\" : 99, \"T\" : 101, \"C\" : 103, \"I\" : 113, \"L\" : 113, \"N\" : 114, \"D\" : 115, \"K\" : 128, \"Q\" : 128, \"E\" : 129, \"M\" : 131, \"H\" : 137, \"F\" : 147, \"R\" : 156, \"Y\" : 163, \"W\" : 186}\n",
    "    return mass_dict\n",
    "\n",
    "def linear_spectrum(peptide, aa_mass) :\n",
    "    \n",
    "    aa_mass = aminoacid_mass_dict()\n",
    "    prefix_mass = [0 for x in range(len(peptide) + 1)]\n",
    "\n",
    "    for i in range(1,len(peptide) + 1):\n",
    "        prefix_mass[i] = prefix_mass[i - 1] + int(aa_mass[str(peptide[i - 1])])\n",
    "    linear = []\n",
    "    for i in range(len(peptide)):\n",
    "        for j in range(i + 1,len(peptide) + 1):\n",
    "            linear.append(prefix_mass[j] - prefix_mass[i])\n",
    "    linear.append(0)\n",
    "    return sorted(linear)\n",
    "\n",
    "def cyclic_spectrum(peptide, aa_mass) :\n",
    "    aa_mass = aminoacid_mass_dict()\n",
    "    prefix_mass = [0 for x in range(len(peptide) + 1)]\n",
    "    for i in range(1, len(peptide) + 1) : prefix_mass[i] = prefix_mass[i-1] + int(aa_mass[str(peptide[i - 1])])\n",
    "    cyclic = []\n",
    "    peptide_mass = prefix_mass[-1]\n",
    "    for i in range(len(peptide)) :\n",
    "        for j in range(i + 1,len(peptide) + 1) :\n",
    "            cyclic.append(prefix_mass[j] - prefix_mass[i])\n",
    "            if(i > 0 and j < len(peptide)) : cyclic.append(peptide_mass - (prefix_mass[j] - prefix_mass[i]))\n",
    "    cyclic.append(0)\n",
    "    return sorted(cyclic)\n",
    "\n",
    "def spectrum(peptide):\n",
    "    aa_mass = aminoacid_mass_dict()\n",
    "    #return cyclic_spectrum(peptide, aa_mass)\n",
    "    return linear_spectrum(peptide, aa_mass)\n",
    "\n",
    "input_file = open(\"untitled.txt\", 'r')\n",
    "line = list(input_file.readline().replace(\"\\n\", \"\"))\n",
    "\n",
    "ans = spectrum(line)\n",
    "printline = \"%s\" % str(ans[0])\n",
    "for i in range(1, len(ans)) :\n",
    "    printline += \" %s\" % str(ans[i])\n",
    "print(printline)"
   ]
  },
  {
   "cell_type": "code",
   "execution_count": null,
   "metadata": {},
   "outputs": [],
   "source": []
  }
 ],
 "metadata": {
  "kernelspec": {
   "display_name": "Python 2",
   "language": "python",
   "name": "python2"
  },
  "language_info": {
   "codemirror_mode": {
    "name": "ipython",
    "version": 2
   },
   "file_extension": ".py",
   "mimetype": "text/x-python",
   "name": "python",
   "nbconvert_exporter": "python",
   "pygments_lexer": "ipython2",
   "version": "2.7.15"
  }
 },
 "nbformat": 4,
 "nbformat_minor": 2
}
