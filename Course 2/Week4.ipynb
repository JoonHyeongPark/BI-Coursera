{
 "cells": [
  {
   "cell_type": "code",
   "execution_count": 9,
   "metadata": {},
   "outputs": [
    {
     "name": "stdout",
     "output_type": "stream",
     "text": [
      "10\n"
     ]
    }
   ],
   "source": [
    "import sys\n",
    "from collections import Counter \n",
    "\n",
    "def aminoacid_mass_dict():\n",
    "    mass_dict = {\"G\" : 57, \"A\" : 71, \"S\" : 87, \"P\" : 97, \"V\" : 99, \"T\" : 101, \"C\" : 103, \"I\" : 113, \"L\" : 113, \"N\" : 114, \"D\" : 115, \"K\" : 128, \"Q\" : 128, \"E\" : 129, \"M\" : 131, \"H\" : 137, \"F\" : 147, \"R\" : 156, \"Y\" : 163, \"W\" : 186}\n",
    "    return mass_dict\n",
    "\n",
    "def linear_spectrum(peptide, aa_mass) :    \n",
    "    aa_mass = aminoacid_mass_dict()\n",
    "    prefix_mass = [0 for x in range(len(peptide) + 1)]\n",
    "\n",
    "    for i in range(1,len(peptide) + 1) : prefix_mass[i] = prefix_mass[i - 1] + int(aa_mass[str(peptide[i - 1])])\n",
    "    linear = []\n",
    "    for i in range(len(peptide)):\n",
    "        for j in range(i + 1,len(peptide) + 1):\n",
    "            linear.append(prefix_mass[j] - prefix_mass[i])\n",
    "    linear.append(0)\n",
    "    return sorted(linear)\n",
    "\n",
    "def cyclic_spectrum(peptide, aa_mass) :\n",
    "    aa_mass = aminoacid_mass_dict()\n",
    "    prefix_mass = [0 for x in range(len(peptide) + 1)]\n",
    "    \n",
    "    for i in range(1, len(peptide) + 1) : prefix_mass[i] = prefix_mass[i-1] + int(aa_mass[str(peptide[i - 1])])\n",
    "    cyclic = []\n",
    "    peptide_mass = prefix_mass[-1]\n",
    "    for i in range(len(peptide)) :\n",
    "        for j in range(i + 1,len(peptide) + 1) :\n",
    "            cyclic.append(prefix_mass[j] - prefix_mass[i])\n",
    "            if(i > 0 and j < len(peptide)) : cyclic.append(peptide_mass - (prefix_mass[j] - prefix_mass[i]))\n",
    "    cyclic.append(0)\n",
    "    return sorted(cyclic)\n",
    "\n",
    "def scoring(peptide,exp_spec) :\n",
    "    aa_mass = aminoacid_mass_dict()\n",
    "\n",
    "    theo_spec = linear_spectrum(peptide, aa_mass)\n",
    "    #theo_spec = cyclic_spectrum(peptide, aa_mass)\n",
    "    theo_count = Counter(theo_spec)\n",
    "    exp_count = Counter(exp_spec)\n",
    "    count = 0\n",
    "    for mass in exp_count.keys() :\n",
    "        if mass in theo_count.keys() : count += min(exp_count[mass],theo_count[mass])\n",
    "    return count\n",
    "\n",
    "input_file = open(\"untitled.txt\", 'r')\n",
    "lines = input_file.readlines()\n",
    "\n",
    "peptide = lines[0].replace(\"\\n\", '')\n",
    "exp_spec = map(int, lines[1].replace(\"\\n\", '').split())\n",
    "\n",
    "print scoring(peptide, exp_spec)"
   ]
  },
  {
   "cell_type": "code",
   "execution_count": 53,
   "metadata": {},
   "outputs": [
    {
     "ename": "ValueError",
     "evalue": "invalid literal for int() with base 10: '517 957 115 325 291 338 713 842 616 297 685 430 588 703 865 1028 210 568 931 301 453 200 388 913 230 828 818 598 343 97 163 115 690 113 0 228 640 640 315 803 639 186 260 527 460 388 899 440 798 768 90'",
     "output_type": "error",
     "traceback": [
      "\u001b[1;31m---------------------------------------------------------------------------\u001b[0m",
      "\u001b[1;31mValueError\u001b[0m                                Traceback (most recent call last)",
      "\u001b[1;32m<ipython-input-53-fad02d3095a7>\u001b[0m in \u001b[0;36m<module>\u001b[1;34m()\u001b[0m\n\u001b[0;32m     23\u001b[0m \u001b[1;33m\u001b[0m\u001b[0m\n\u001b[0;32m     24\u001b[0m \u001b[0minput_file\u001b[0m \u001b[1;33m=\u001b[0m \u001b[0mopen\u001b[0m\u001b[1;33m(\u001b[0m\u001b[1;34m\"untitled.txt\"\u001b[0m\u001b[1;33m,\u001b[0m \u001b[1;34m'r'\u001b[0m\u001b[1;33m)\u001b[0m\u001b[1;33m\u001b[0m\u001b[0m\n\u001b[1;32m---> 25\u001b[1;33m \u001b[0mn\u001b[0m \u001b[1;33m=\u001b[0m \u001b[0mint\u001b[0m\u001b[1;33m(\u001b[0m\u001b[0minput_file\u001b[0m\u001b[1;33m.\u001b[0m\u001b[0mreadline\u001b[0m\u001b[1;33m(\u001b[0m\u001b[1;33m)\u001b[0m\u001b[1;33m)\u001b[0m\u001b[1;33m\u001b[0m\u001b[0m\n\u001b[0m\u001b[0;32m     26\u001b[0m \u001b[0mspec\u001b[0m \u001b[1;33m=\u001b[0m \u001b[0mmap\u001b[0m\u001b[1;33m(\u001b[0m\u001b[0mint\u001b[0m\u001b[1;33m,\u001b[0m \u001b[0minput_file\u001b[0m\u001b[1;33m.\u001b[0m\u001b[0mreadline\u001b[0m\u001b[1;33m(\u001b[0m\u001b[1;33m)\u001b[0m\u001b[1;33m.\u001b[0m\u001b[0msplit\u001b[0m\u001b[1;33m(\u001b[0m\u001b[1;33m)\u001b[0m\u001b[1;33m)\u001b[0m\u001b[1;33m\u001b[0m\u001b[0m\n\u001b[0;32m     27\u001b[0m \u001b[1;33m\u001b[0m\u001b[0m\n",
      "\u001b[1;31mValueError\u001b[0m: invalid literal for int() with base 10: '517 957 115 325 291 338 713 842 616 297 685 430 588 703 865 1028 210 568 931 301 453 200 388 913 230 828 818 598 343 97 163 115 690 113 0 228 640 640 315 803 639 186 260 527 460 388 899 440 798 768 90'"
     ]
    }
   ],
   "source": [
    "import sys\n",
    "\n",
    "def ProteinWeightDict():\n",
    "#    table = {\"G\" : 57.02146, \"A\" : 71.03711, \"S\" : 87.03203, \"P\" : 97.05276, \"V\" : 99.06841, \"T\" : 101.04768, \"C\" : 103.00919, \"I\" : 113.08406, \"L\" : 113.08406, \"N\" : 114.04293, \"D\" : 115.02694, \"K\" : 128.09496, \"Q\" : 128.05858, \"E\" : 129.04259, \"M\" : 131.04049, \"H\" : 137.05891, \"F\" : 147.06841, \"R\" : 156.10111, \"Y\" : 163.06333, \"W\" : 186.07931}    \n",
    "    mass_dict = {\"G\" : 57, \"A\" : 71, \"S\" : 87, \"P\" : 97, \"V\" : 99, \"T\" : 101, \"C\" : 103, \"I\" : 113, \"L\" : 113, \"N\" : 114, \"D\" : 115, \"K\" : 128, \"Q\" : 128, \"E\" : 129, \"M\" : 131, \"H\" : 137, \"F\" : 147, \"R\" : 156, \"Y\" : 163, \"W\" : 186}\n",
    "    return mass_dict\n",
    "\n",
    "def append_protein(add_list):\n",
    "    newlist = []\n",
    "    for item in add_list : newlist += [item + ch for ch in ProteinWeightDict().keys()]\n",
    "    return newlist\n",
    "\n",
    "def spectrum(peptide):\n",
    "    spec = [0, sum([int(weight[protein]) for protein in peptide])]\n",
    "    spec += [sum([int(weight[protein]) for protein in (peptide*2)[j:j+i]]) for i in xrange(1,len(peptide)) for j in xrange(len(peptide))]\n",
    "    return sorted(spec)\n",
    "\n",
    "def spectrum_score(peptide, exp_spec):\n",
    "    pep_spec = spectrum(peptide)\n",
    "\n",
    "    if pep_spec[-1] > exp_spec[-1] : return -1\n",
    "    return sum([min(pep_spec.count(protein),exp_spec.count(protein)) for protein in set(pep_spec)])\n",
    "\n",
    "input_file = open(\"untitled.txt\", 'r')\n",
    "n = int(input_file.readline())\n",
    "spec = map(int, input_file.readline().split())\n",
    "\n",
    "weight = ProteinWeightDict()\n",
    "scores = dict()\n",
    "seq = filter(lambda L: L[0] != -1, [[spectrum_score(peptide,spec), peptide] for peptide in append_protein(weight.keys())]) \n",
    "\n",
    "leaders = []\n",
    "\n",
    "while seq != [] :\n",
    "    scores = dict()\n",
    "    for item in seq :\n",
    "        if item[0] in scores : scores[item[0]].append(item[1])\n",
    "        else : scores[item[0]] = [item[1]]\n",
    "\n",
    "    leaders, leader_scores = [], []\n",
    "    if sum(len(peptides) for peptides in scores.values()) < n : leaders = scores[max(scores.keys())]\n",
    "\n",
    "    else :\n",
    "        while len(leaders) < n :\n",
    "            leaders += scores[max(scores.keys())]\n",
    "            del scores[max(scores.keys())]\n",
    "\n",
    "    leaders = leaders[:100]\n",
    "    seq = filter(lambda L: L[0] != -1, [[spectrum_score(peptide,spec), peptide] for peptide in append_protein(leaders)])\n",
    "\n",
    "leader_peptide = '-'.join([str(int(weight[protein])) for protein in leaders[0]])\n",
    "print(leader_peptide)"
   ]
  },
  {
   "cell_type": "code",
   "execution_count": 10,
   "metadata": {},
   "outputs": [
    {
     "name": "stdout",
     "output_type": "stream",
     "text": [
      "86 160 74 234 148 74 308 222 148 74 320 234 160 86 12 382 296 222 148 74 62\n"
     ]
    }
   ],
   "source": [
    "import sys\n",
    "\n",
    "input_file = open(\"untitled.txt\", 'r')\n",
    "\n",
    "line = input_file.readline()\n",
    "spectrum = map(int,line.split())\n",
    "\n",
    "def convolution(spec):\n",
    "    convolution_list = [str(i - j) for i in spec for j in spec if i - j > 0]\n",
    "    return convolution_list\n",
    "\n",
    "ans = convolution(spectrum)\n",
    "print(\" \".join(ans))"
   ]
  },
  {
   "cell_type": "code",
   "execution_count": null,
   "metadata": {},
   "outputs": [],
   "source": []
  }
 ],
 "metadata": {
  "kernelspec": {
   "display_name": "Python 2",
   "language": "python",
   "name": "python2"
  },
  "language_info": {
   "codemirror_mode": {
    "name": "ipython",
    "version": 2
   },
   "file_extension": ".py",
   "mimetype": "text/x-python",
   "name": "python",
   "nbconvert_exporter": "python",
   "pygments_lexer": "ipython2",
   "version": "2.7.15"
  }
 },
 "nbformat": 4,
 "nbformat_minor": 2
}
