{
 "cells": [
  {
   "cell_type": "code",
   "execution_count": 65,
   "metadata": {},
   "outputs": [
    {
     "name": "stdout",
     "output_type": "stream",
     "text": [
      "(+1 +16 -7 -2 -20 +13 -15 -8 -10 -14 -19 -11 +3 -5 +4 -18 -17 +9 +12 -6)\n",
      "(+1 +2 +7 -16 -20 +13 -15 -8 -10 -14 -19 -11 +3 -5 +4 -18 -17 +9 +12 -6)\n",
      "(+1 +2 -3 +11 +19 +14 +10 +8 +15 -13 +20 +16 -7 -5 +4 -18 -17 +9 +12 -6)\n",
      "(+1 +2 +3 +11 +19 +14 +10 +8 +15 -13 +20 +16 -7 -5 +4 -18 -17 +9 +12 -6)\n",
      "(+1 +2 +3 -4 +5 +7 -16 -20 +13 -15 -8 -10 -14 -19 -11 -18 -17 +9 +12 -6)\n",
      "(+1 +2 +3 +4 +5 +7 -16 -20 +13 -15 -8 -10 -14 -19 -11 -18 -17 +9 +12 -6)\n",
      "(+1 +2 +3 +4 +5 +6 -12 -9 +17 +18 +11 +19 +14 +10 +8 +15 -13 +20 +16 -7)\n",
      "(+1 +2 +3 +4 +5 +6 +7 -16 -20 +13 -15 -8 -10 -14 -19 -11 -18 -17 +9 +12)\n",
      "(+1 +2 +3 +4 +5 +6 +7 +8 +15 -13 +20 +16 -10 -14 -19 -11 -18 -17 +9 +12)\n",
      "(+1 +2 +3 +4 +5 +6 +7 +8 -9 +17 +18 +11 +19 +14 +10 -16 -20 +13 -15 +12)\n",
      "(+1 +2 +3 +4 +5 +6 +7 +8 +9 +17 +18 +11 +19 +14 +10 -16 -20 +13 -15 +12)\n",
      "(+1 +2 +3 +4 +5 +6 +7 +8 +9 -10 -14 -19 -11 -18 -17 -16 -20 +13 -15 +12)\n",
      "(+1 +2 +3 +4 +5 +6 +7 +8 +9 +10 -14 -19 -11 -18 -17 -16 -20 +13 -15 +12)\n",
      "(+1 +2 +3 +4 +5 +6 +7 +8 +9 +10 +11 +19 +14 -18 -17 -16 -20 +13 -15 +12)\n",
      "(+1 +2 +3 +4 +5 +6 +7 +8 +9 +10 +11 -12 +15 -13 +20 +16 +17 +18 -14 -19)\n",
      "(+1 +2 +3 +4 +5 +6 +7 +8 +9 +10 +11 +12 +15 -13 +20 +16 +17 +18 -14 -19)\n",
      "(+1 +2 +3 +4 +5 +6 +7 +8 +9 +10 +11 +12 +13 -15 +20 +16 +17 +18 -14 -19)\n",
      "(+1 +2 +3 +4 +5 +6 +7 +8 +9 +10 +11 +12 +13 +14 -18 -17 -16 -20 +15 -19)\n",
      "(+1 +2 +3 +4 +5 +6 +7 +8 +9 +10 +11 +12 +13 +14 -15 +20 +16 +17 +18 -19)\n",
      "(+1 +2 +3 +4 +5 +6 +7 +8 +9 +10 +11 +12 +13 +14 +15 +20 +16 +17 +18 -19)\n",
      "(+1 +2 +3 +4 +5 +6 +7 +8 +9 +10 +11 +12 +13 +14 +15 -16 -20 +17 +18 -19)\n",
      "(+1 +2 +3 +4 +5 +6 +7 +8 +9 +10 +11 +12 +13 +14 +15 +16 -20 +17 +18 -19)\n",
      "(+1 +2 +3 +4 +5 +6 +7 +8 +9 +10 +11 +12 +13 +14 +15 +16 -17 +20 +18 -19)\n",
      "(+1 +2 +3 +4 +5 +6 +7 +8 +9 +10 +11 +12 +13 +14 +15 +16 +17 +20 +18 -19)\n",
      "(+1 +2 +3 +4 +5 +6 +7 +8 +9 +10 +11 +12 +13 +14 +15 +16 +17 -18 -20 -19)\n",
      "(+1 +2 +3 +4 +5 +6 +7 +8 +9 +10 +11 +12 +13 +14 +15 +16 +17 +18 -20 -19)\n",
      "(+1 +2 +3 +4 +5 +6 +7 +8 +9 +10 +11 +12 +13 +14 +15 +16 +17 +18 +19 +20)\n"
     ]
    },
    {
     "data": {
      "text/plain": [
       "27"
      ]
     },
     "execution_count": 65,
     "metadata": {},
     "output_type": "execute_result"
    }
   ],
   "source": [
    "def Indexing(permutation, target, start) :\n",
    "    \n",
    "    for i in range(start, len(permutation)) :\n",
    "        if(permutation[i][1 :] == target) :\n",
    "            return permutation[i][0], i\n",
    "        \n",
    "    return 'X', -1\n",
    "\n",
    "def GreedySorting(permutation) : \n",
    "    \n",
    "    reversal = lambda sequence, x, y : sequence[: x] + list(reversed(sequence[x : y + 1])) + sequence[y + 1 :]\n",
    "    reversal_distance = 0\n",
    "    \n",
    "    for i in range(len(permutation)) : \n",
    "        \n",
    "        if(permutation[i][1 :] != str(i + 1)) :\n",
    "            \n",
    "            sign, index = Indexing(permutation, str(i + 1), i)\n",
    "            if(sign == '-') :\n",
    "                permutation = reversal(permutation, i, index)\n",
    "                permutation[i : index + 1] = list(map(lambda x : '+' + permutation[x][1 :] if permutation[x][0] == '-' else '-' + permutation[x][1 :], range(i, index + 1)))\n",
    "                reversal_distance += 1\n",
    "            elif(sign == '+') : \n",
    "                permutation = reversal(permutation, i, index)\n",
    "                permutation[i : index + 1] = list(map(lambda x : '+' + permutation[x][1:] if permutation[x][0] == '-' else '-' + permutation[x][1 :], range(i, index + 1)))\n",
    "                print(\"(\" + \" \".join(permutation) + \")\")\n",
    "                permutation[i] = '+' + str(i + 1)\n",
    "                reversal_distance += 2\n",
    "                \n",
    "            print(\"(\" + \" \".join(permutation) + \")\")\n",
    "            \n",
    "        elif(permutation[i] == '-' + str(i + 1)) : \n",
    "            permutation[i] = '+' + str(i + 1)\n",
    "            reversal_distance += 1\n",
    "            print(\"(\" + \" \".join(permutation) + \")\")\n",
    "    \n",
    "    return reversal_distance\n",
    "\n",
    "input_file = open(\"untitled.txt\", 'r')\n",
    "\n",
    "permutation = input_file.readline().replace(\"\\n\", '')[1 : -1].split()\n",
    "\n",
    "GreedySorting(permutation)"
   ]
  },
  {
   "cell_type": "code",
   "execution_count": 66,
   "metadata": {},
   "outputs": [
    {
     "name": "stdout",
     "output_type": "stream",
     "text": [
      "18\n"
     ]
    }
   ],
   "source": [
    "def FindBreakPoints(permutation) :\n",
    "    \n",
    "    count = 0\n",
    "    \n",
    "    if(permutation[0] != \"+1\") : count += 1\n",
    "    if(permutation[len(permutation) - 1] != \"+\" + str(len(permutation))) : count += 1\n",
    "        \n",
    "    for i in range(len(permutation) - 1) : \n",
    "        \n",
    "        if(int(permutation[i]) + 1 == int(permutation[i + 1])) : continue            \n",
    "        count += 1\n",
    "    \n",
    "    return count\n",
    "\n",
    "input_file = open(\"untitled.txt\", 'r')\n",
    "\n",
    "permutation = input_file.readline().replace(\"\\n\", '')[1 : -1].split()\n",
    "\n",
    "print(FindBreakPoints(permutation))"
   ]
  },
  {
   "cell_type": "code",
   "execution_count": null,
   "metadata": {},
   "outputs": [],
   "source": []
  }
 ],
 "metadata": {
  "kernelspec": {
   "display_name": "Python 2",
   "language": "python",
   "name": "python2"
  },
  "language_info": {
   "codemirror_mode": {
    "name": "ipython",
    "version": 2
   },
   "file_extension": ".py",
   "mimetype": "text/x-python",
   "name": "python",
   "nbconvert_exporter": "python",
   "pygments_lexer": "ipython2",
   "version": "2.7.15"
  }
 },
 "nbformat": 4,
 "nbformat_minor": 2
}
