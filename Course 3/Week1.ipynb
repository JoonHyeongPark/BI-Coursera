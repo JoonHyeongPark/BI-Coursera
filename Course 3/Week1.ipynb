{
 "cells": [
  {
   "cell_type": "code",
   "execution_count": 3,
   "metadata": {},
   "outputs": [
    {
     "name": "stdout",
     "output_type": "stream",
     "text": [
      "7\n"
     ]
    }
   ],
   "source": [
    "def DPchange(money, coins, length) :\n",
    "    \n",
    "    min_coins = [0]\n",
    "    \n",
    "    for i in range(1, money + 1) :\n",
    "        min_coins.append(-1)\n",
    "        for j in range(length) :\n",
    "            if i >= coins[j] and (min_coins[i] == -1 or min_coins[i] > min_coins[i - coins[j]] + 1)  : min_coins[i] = min_coins[i - coins[j]] + 1\n",
    "    \n",
    "    return min_coins[money]\n",
    "\n",
    "input_file = open(\"untitled.txt\", 'r')\n",
    "\n",
    "money = int(input_file.readline())\n",
    "coins = map(int, input_file.readline().split(','))\n",
    "\n",
    "length = len(coins)\n",
    "\n",
    "print(DPchange(money, coins, length))"
   ]
  },
  {
   "cell_type": "code",
   "execution_count": 28,
   "metadata": {},
   "outputs": [
    {
     "name": "stdout",
     "output_type": "stream",
     "text": [
      "28\n"
     ]
    }
   ],
   "source": [
    "def LongestPath(n, m, down, right) : \n",
    "    \n",
    "    weight = []\n",
    "    \n",
    "    for i in range(n + 1) : \n",
    "        weight.append([])\n",
    "        for j in range(m + 1) : weight[i].append(0)\n",
    "    \n",
    "    for i in range(m) : weight[0][i + 1] = weight[0][i] + right[0][i]\n",
    "    for i in range(n) : weight[i + 1][0] = weight[i][0] + down[i][0]\n",
    "        \n",
    "    for i in range(1, n + 1) : \n",
    "        for j in range(1, m + 1) : weight[i][j] = max(weight[i][j - 1] + right[i][j - 1], weight[i - 1][j] + down[i - 1][j])\n",
    "    \n",
    "    return weight[n][m]\n",
    "\n",
    "input_file = open(\"untitled.txt\", 'r')\n",
    "\n",
    "pair = input_file.readline().split()\n",
    "\n",
    "n = int(pair[0])\n",
    "m = int(pair[1])\n",
    "\n",
    "down = []; right = []\n",
    "for i in range(n) : down.append(map(int, input_file.readline().split()))\n",
    "input_file.readline()\n",
    "for i in range(n + 1) : right.append(map(int, input_file.readline().split()))\n",
    "\n",
    "print(LongestPath(n, m, down, right))"
   ]
  },
  {
   "cell_type": "code",
   "execution_count": 8,
   "metadata": {},
   "outputs": [
    {
     "name": "stdout",
     "output_type": "stream",
     "text": [
      "TCGT\n"
     ]
    }
   ],
   "source": [
    "import numpy as np\n",
    "\n",
    "def LongestPath(n, m, line1, line2) :\n",
    "    \n",
    "    weight = np.zeros((n + 1, m + 1), dtype = int)\n",
    "    backtrack = np.zeros((n + 1, m + 1), dtype = int)\n",
    "    \n",
    "    for i in range(n) : \n",
    "        \n",
    "        for j in range(m) :\n",
    "            \n",
    "            if(line1[i] == line2[j]) :\n",
    "                weight[i + 1][j + 1] = weight[i][j] + 1\n",
    "                backtrack[i + 1][j + 1] = 3\n",
    "                \n",
    "            else :\n",
    "                if(weight[i + 1][j] > weight[i][j + 1]) : \n",
    "                    weight[i + 1][j + 1] = weight[i + 1][j]\n",
    "                    backtrack[i + 1][j + 1] = 2\n",
    "                    \n",
    "                else : \n",
    "                    weight[i + 1][j + 1]= weight[i][j + 1]\n",
    "                    backtrack[i + 1][j + 1] = 1\n",
    "                    \n",
    "    i = n; j = m\n",
    "    seq = []\n",
    "    \n",
    "    while i * j != 0 :\n",
    "        if(backtrack[i][j] == 3) :\n",
    "            seq.append(line1[i - 1])\n",
    "            i -= 1\n",
    "            j -= 1\n",
    "            \n",
    "        elif(backtrack[i][j] == 2) : j -= 1\n",
    "        else : i -= 1\n",
    "    \n",
    "    return seq[::-1]\n",
    "\n",
    "input_file = open(\"untitled.txt\", 'r')\n",
    "\n",
    "line1 = input_file.readline().replace('\\n', '')\n",
    "line2 = input_file.readline().replace('\\n', '')\n",
    "\n",
    "print(\"\".join(LongestPath(len(line1), len(line2), line1, line2)))"
   ]
  },
  {
   "cell_type": "code",
   "execution_count": 7,
   "metadata": {},
   "outputs": [
    {
     "name": "stdout",
     "output_type": "stream",
     "text": [
      "151\n"
     ]
    }
   ],
   "source": [
    "import operator as op\n",
    "\n",
    "def ncr(n, r):\n",
    "    r = min(r, n-r)\n",
    "    numer = reduce(op.mul, xrange(n, n-r, -1), 1)\n",
    "    denom = reduce(op.mul, xrange(1, r+1), 1)\n",
    "    return numer//denom\n",
    "\n",
    "print ncr(10, 1) + ncr(9, 3) + ncr(8, 5) + ncr(7, 7)"
   ]
  },
  {
   "cell_type": "code",
   "execution_count": null,
   "metadata": {},
   "outputs": [],
   "source": []
  }
 ],
 "metadata": {
  "kernelspec": {
   "display_name": "Python 2",
   "language": "python",
   "name": "python2"
  },
  "language_info": {
   "codemirror_mode": {
    "name": "ipython",
    "version": 2
   },
   "file_extension": ".py",
   "mimetype": "text/x-python",
   "name": "python",
   "nbconvert_exporter": "python",
   "pygments_lexer": "ipython2",
   "version": "2.7.15"
  }
 },
 "nbformat": 4,
 "nbformat_minor": 2
}
