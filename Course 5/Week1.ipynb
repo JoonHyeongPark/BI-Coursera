{
 "cells": [
  {
   "cell_type": "code",
   "execution_count": 36,
   "metadata": {},
   "outputs": [
    {
     "name": "stdout",
     "output_type": "stream",
     "text": [
      "[14.7, 2.8, 3.1, 12.2, 6.0]\n",
      "[6.9, 4.8, 19.3, 19.2, 40.4]\n",
      "[7.6, 33.0, 2.9, 0.9, 1.4]\n",
      "[30.3, 6.5, 28.9, 6.5, 17.9]\n"
     ]
    }
   ],
   "source": [
    "import random\n",
    "import operator\n",
    "\n",
    "def EuclideanDistance(point, center, m) :\n",
    "    \n",
    "    total = []\n",
    "    \n",
    "    for i in range(len(center)) :\n",
    "        total.append(0.0)\n",
    "        for j in range(m) : total[i] += (center[i][j] - point[j]) ** 2\n",
    "            \n",
    "    return min(total)\n",
    "\n",
    "def FarthestFirstTraversal(data, k, m) : \n",
    "    \n",
    "    center = []\n",
    "    num_data = len(data)\n",
    "    \n",
    "    random_index = 0\n",
    "    center.append(data[random_index])\n",
    "    del data[random_index]\n",
    "    \n",
    "    while(len(center) < k) : \n",
    "        \n",
    "        index, MAX = max(enumerate(list(map(lambda x : EuclideanDistance(data[x], center, m), range(len(data))))), key = (lambda x : x[1]))\n",
    "\n",
    "        center.append(data[index])\n",
    "        del data[index]\n",
    "        \n",
    "    return center\n",
    "\n",
    "input_file = open(\"untitled.txt\", 'r')\n",
    "first_line= input_file.readline().replace('\\n', '').split()\n",
    "\n",
    "k = int(first_line[0])\n",
    "m = int(first_line[1])\n",
    "\n",
    "data_lines = input_file.read().splitlines()\n",
    "data = []\n",
    "\n",
    "for line in data_lines :\n",
    "    line = line.split()\n",
    "    data.append(list(map(float, line)))\n",
    "    \n",
    "centers = FarthestFirstTraversal(data, k, m)\n",
    "for center in centers : print(center)"
   ]
  },
  {
   "cell_type": "code",
   "execution_count": 17,
   "metadata": {},
   "outputs": [
    {
     "name": "stdout",
     "output_type": "stream",
     "text": [
      "9.000\n"
     ]
    }
   ],
   "source": [
    "import random\n",
    "import operator\n",
    "\n",
    "def EuclideanDistance(centers, data, m) :\n",
    "    \n",
    "    total = []\n",
    "    \n",
    "    for i in range(len(centers)) :\n",
    "        total.append(0.0)\n",
    "        for j in range(m) : total[i] += (centers[i][j] - data[j]) ** 2\n",
    "    \n",
    "    return min(total)\n",
    "\n",
    "def SquaredErrorDistortion(data, centers, k, m) :\n",
    "    \n",
    "    total = 0.0\n",
    "    \n",
    "    for i in range(len(data)) :\n",
    "        total += EuclideanDistance(centers, data[i], m)\n",
    "            \n",
    "    return total / len(data)\n",
    "\n",
    "input_file = open(\"untitled.txt\", 'r')\n",
    "first_line= input_file.readline().replace('\\n', '').split()\n",
    "\n",
    "k = int(first_line[0])\n",
    "m = int(first_line[1])\n",
    "\n",
    "centers = []\n",
    "for i in range(k) : centers.append(list(map(float, input_file.readline().replace('\\n', '').split())))\n",
    "\n",
    "input_file.readline()\n",
    "                                   \n",
    "data_lines = input_file.read().splitlines()\n",
    "data = []\n",
    "\n",
    "for line in data_lines :\n",
    "    line = line.split()\n",
    "    data.append(list(map(float, line)))\n",
    "    \n",
    "print(\"%.3f\" % SquaredErrorDistortion(data, centers, k, m))"
   ]
  },
  {
   "cell_type": "code",
   "execution_count": 16,
   "metadata": {},
   "outputs": [
    {
     "name": "stdout",
     "output_type": "stream",
     "text": [
      "25.0\n"
     ]
    }
   ],
   "source": [
    "def EuclideanDistance(point, center, m) :\n",
    "    \n",
    "    total = []\n",
    "    \n",
    "    for i in range(len(center)) :\n",
    "        total.append(0.0)\n",
    "        for j in range(m) : total[i] += (center[i][j] - point[j]) ** 2\n",
    "            \n",
    "    return min(total)\n",
    "\n",
    "center = [(3, 5), (5, 4)]\n",
    "data = [(2, 8), (2, 5), (6, 9), (7, 5), (5, 2)]\n",
    "\n",
    "index, MAX = max(enumerate(list(map(lambda x : EuclideanDistance(data[x], center, 2), range(len(data))))), key = (lambda x : x[1]))\n",
    "\n",
    "print(MAX)"
   ]
  },
  {
   "cell_type": "code",
   "execution_count": null,
   "metadata": {},
   "outputs": [],
   "source": []
  }
 ],
 "metadata": {
  "kernelspec": {
   "display_name": "Python 2",
   "language": "python",
   "name": "python2"
  },
  "language_info": {
   "codemirror_mode": {
    "name": "ipython",
    "version": 2
   },
   "file_extension": ".py",
   "mimetype": "text/x-python",
   "name": "python",
   "nbconvert_exporter": "python",
   "pygments_lexer": "ipython2",
   "version": "2.7.15"
  }
 },
 "nbformat": 4,
 "nbformat_minor": 2
}
